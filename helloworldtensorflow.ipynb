{
  "nbformat": 4,
  "nbformat_minor": 0,
  "metadata": {
    "colab": {
      "name": "helloworldtensorflow.ipynb",
      "version": "0.3.2",
      "provenance": [],
      "collapsed_sections": [],
      "include_colab_link": true
    },
    "kernelspec": {
      "name": "python3",
      "display_name": "Python 3"
    },
    "accelerator": "GPU"
  },
  "cells": [
    {
      "cell_type": "markdown",
      "metadata": {
        "id": "view-in-github",
        "colab_type": "text"
      },
      "source": [
        "<a href=\"https://colab.research.google.com/github/parkingcams/helloworldgithubtensorflow/blob/master/helloworldtensorflow.ipynb\" target=\"_parent\"><img src=\"https://colab.research.google.com/assets/colab-badge.svg\" alt=\"Open In Colab\"/></a>"
      ]
    },
    {
      "cell_type": "code",
      "metadata": {
        "id": "vQIQIjrzPP8G",
        "colab_type": "code",
        "colab": {}
      },
      "source": [
        "import numpy as np\n",
        "import tensorflow as tf\n",
        "import matplotlib.pyplot as plt"
      ],
      "execution_count": 0,
      "outputs": []
    },
    {
      "cell_type": "code",
      "metadata": {
        "id": "GCRfVVini2Ua",
        "colab_type": "code",
        "outputId": "c6146a7f-527b-45f7-97c9-658445c4a733",
        "colab": {
          "base_uri": "https://localhost:8080/",
          "height": 205
        }
      },
      "source": [
        "# Check TensorFlow versions\n",
        "!pip show tensorflow"
      ],
      "execution_count": 0,
      "outputs": [
        {
          "output_type": "stream",
          "text": [
            "Name: tensorflow\n",
            "Version: 1.14.0\n",
            "Summary: TensorFlow is an open source machine learning framework for everyone.\n",
            "Home-page: https://www.tensorflow.org/\n",
            "Author: Google Inc.\n",
            "Author-email: packages@tensorflow.org\n",
            "License: Apache 2.0\n",
            "Location: /usr/local/lib/python3.6/dist-packages\n",
            "Requires: tensorflow-estimator, wheel, termcolor, wrapt, numpy, protobuf, keras-preprocessing, tensorboard, six, grpcio, astor, gast, google-pasta, keras-applications, absl-py\n",
            "Required-by: stable-baselines, magenta, fancyimpute\n"
          ],
          "name": "stdout"
        }
      ]
    },
    {
      "cell_type": "markdown",
      "metadata": {
        "id": "pWjEFU24jOX9",
        "colab_type": "text"
      },
      "source": [
        "## Colab Essentials\n",
        "\n",
        "### Opening up a New Noetbook\n",
        "\n",
        "For the very first time using Colab, you can visit here. Once you have a notebook created, it'll be saved in your Google Drive. You can access it by visiting your Google Drive page, then either double click on the file name or right click and Open with Colab.\n",
        "\n",
        "**Shortcuts**\n",
        "\n",
        "*   Run cell: \"Shift + Eneter\"\n",
        "*   Delete cell: \"Ctrl + M, then D\"\n",
        "*   Undo: \"Ctrl + Shift + Z\"\n",
        "*   Convert to code cell: \"Ctrl + M, then Y\"\n",
        "*   Convert to markdown cell: \"Ctrl + M, then M\"\n",
        "*   Save notebook: \"Ctrl + S\"\n",
        "*   Open up the shortcut screen: \"Ctrl + M, then H\""
      ]
    },
    {
      "cell_type": "code",
      "metadata": {
        "id": "D_o-9r_AkDUd",
        "colab_type": "code",
        "outputId": "7e729465-2b33-4646-e572-0e69e30a813d",
        "colab": {
          "base_uri": "https://localhost:8080/",
          "height": 34
        }
      },
      "source": [
        "# A random cell to be deleted\n",
        "print(\"Colab -> is cool\")"
      ],
      "execution_count": 0,
      "outputs": [
        {
          "output_type": "stream",
          "text": [
            "Colab -> is cool\n"
          ],
          "name": "stdout"
        }
      ]
    },
    {
      "cell_type": "markdown",
      "metadata": {
        "id": "DS12z4CFkPMZ",
        "colab_type": "text"
      },
      "source": [
        "### Connecting with GitHub\n",
        "\"File\" --> \"Save a copy in GitHub\"\n",
        "\n",
        "### Enable GPU support\n",
        "\"Runtime - Change runtime type - Hardware accelerator\"\n",
        "\n",
        "## Several Quick Examples\n",
        "### Constant and Variable"
      ]
    },
    {
      "cell_type": "code",
      "metadata": {
        "id": "uNgkEF99kfpW",
        "colab_type": "code",
        "colab": {}
      },
      "source": [
        "# Define two TensorFlow constants\n",
        "a = tf.constant(1, name='a_var')          \n",
        "b = tf.constant(2, name='b_bar')"
      ],
      "execution_count": 0,
      "outputs": []
    },
    {
      "cell_type": "code",
      "metadata": {
        "id": "e1XIk1c2kivj",
        "colab_type": "code",
        "outputId": "2974775f-8f3d-4fce-d4ba-6721eecd32c4",
        "colab": {
          "base_uri": "https://localhost:8080/",
          "height": 34
        }
      },
      "source": [
        "# See what the constant a is\n",
        "a"
      ],
      "execution_count": 0,
      "outputs": [
        {
          "output_type": "execute_result",
          "data": {
            "text/plain": [
              "<tf.Tensor 'a_var:0' shape=() dtype=int32>"
            ]
          },
          "metadata": {
            "tags": []
          },
          "execution_count": 5
        }
      ]
    },
    {
      "cell_type": "code",
      "metadata": {
        "id": "brNw8RLykuNc",
        "colab_type": "code",
        "colab": {}
      },
      "source": [
        "# Define a variable c\n",
        "c = tf.Variable(a + b)"
      ],
      "execution_count": 0,
      "outputs": []
    },
    {
      "cell_type": "code",
      "metadata": {
        "id": "PBY6vgz-kzL_",
        "colab_type": "code",
        "outputId": "1ce72b68-a89c-4c5d-ff07-6f8d50ddbbf9",
        "colab": {
          "base_uri": "https://localhost:8080/",
          "height": 34
        }
      },
      "source": [
        "# Check out c\n",
        "c"
      ],
      "execution_count": 0,
      "outputs": [
        {
          "output_type": "execute_result",
          "data": {
            "text/plain": [
              "<tf.Variable 'Variable:0' shape=() dtype=int32_ref>"
            ]
          },
          "metadata": {
            "tags": []
          },
          "execution_count": 7
        }
      ]
    },
    {
      "cell_type": "code",
      "metadata": {
        "id": "TnKUz4JEk3ao",
        "colab_type": "code",
        "outputId": "b5779b8f-7be7-4326-dd53-4486cbfb4425",
        "colab": {
          "base_uri": "https://localhost:8080/",
          "height": 34
        }
      },
      "source": [
        "# Initialize all variables and run the computational graph\n",
        "init = tf.global_variables_initializer()         \n",
        "                                                 \n",
        "with tf.Session() as session:                    \n",
        "    session.run(init)                            \n",
        "    print(session.run(c))"
      ],
      "execution_count": 0,
      "outputs": [
        {
          "output_type": "stream",
          "text": [
            "3\n"
          ],
          "name": "stdout"
        }
      ]
    },
    {
      "cell_type": "markdown",
      "metadata": {
        "id": "atKXmpxlk7bz",
        "colab_type": "text"
      },
      "source": [
        "### Placeholder\n",
        "Now let's show the use of placeholder. We'll first use a parabola equation as below:\n",
        "\n",
        "$y = a x^*2*+bx+c$\n",
        "\n",
        "Here, imagine x, instead of just one number, it's a list of numbers (vector). To calculate the corresponding y value for each x value, we can use placeholder."
      ]
    },
    {
      "cell_type": "code",
      "metadata": {
        "id": "YOvl_lO-lDpv",
        "colab_type": "code",
        "colab": {}
      },
      "source": [
        "# Initialize the coefficients as constants\n",
        "a = tf.constant(1, dtype=tf.float32)\n",
        "b = tf.constant(-20, dtype=tf.float32)\n",
        "c = tf.constant(-100, dtype=tf.float32)"
      ],
      "execution_count": 0,
      "outputs": []
    },
    {
      "cell_type": "code",
      "metadata": {
        "id": "_wNTPvQplEan",
        "colab_type": "code",
        "colab": {}
      },
      "source": [
        "# Initialize x as a placeholder since we need to feed the data for it\n",
        "x = tf.placeholder(dtype=tf.float32)"
      ],
      "execution_count": 0,
      "outputs": []
    },
    {
      "cell_type": "code",
      "metadata": {
        "id": "9G7I9vWdlG2Q",
        "colab_type": "code",
        "colab": {}
      },
      "source": [
        "# Set up the computational graph\n",
        "y = a * (x ** 2) + b * x + c"
      ],
      "execution_count": 0,
      "outputs": []
    },
    {
      "cell_type": "code",
      "metadata": {
        "id": "X1LzN5lDlJGH",
        "colab_type": "code",
        "colab": {}
      },
      "source": [
        "# Provide the feed in data for x\n",
        "x_feed = np.linspace(-10, 30, num=10)"
      ],
      "execution_count": 0,
      "outputs": []
    },
    {
      "cell_type": "code",
      "metadata": {
        "id": "wAf55mXHlLOS",
        "colab_type": "code",
        "colab": {}
      },
      "source": [
        "# Start and run a session\n",
        "with tf.Session() as sess:\n",
        "  results = sess.run(y, feed_dict={x: x_feed})"
      ],
      "execution_count": 0,
      "outputs": []
    },
    {
      "cell_type": "code",
      "metadata": {
        "id": "RQVvjXBTlNbP",
        "colab_type": "code",
        "outputId": "afba4754-813c-4631-92dc-1b7a211893f4",
        "colab": {
          "base_uri": "https://localhost:8080/",
          "height": 50
        }
      },
      "source": [
        "print(results)"
      ],
      "execution_count": 0,
      "outputs": [
        {
          "output_type": "stream",
          "text": [
            "[ 200.         41.975304  -76.54321  -155.55554  -195.06174  -195.06174\n",
            " -155.55554   -76.54324    41.97534   200.      ]\n"
          ],
          "name": "stdout"
        }
      ]
    },
    {
      "cell_type": "markdown",
      "metadata": {
        "id": "Qcs0ApMdlV42",
        "colab_type": "text"
      },
      "source": [
        "# A Mini Project"
      ]
    },
    {
      "cell_type": "code",
      "metadata": {
        "id": "5QgHS-NtlPuz",
        "colab_type": "code",
        "outputId": "bd31eb83-cc3f-47bf-c6e8-b46bc9a32a2c",
        "colab": {
          "base_uri": "https://localhost:8080/",
          "height": 289
        }
      },
      "source": [
        "# A simple example taken from TensorFlow Guide: https://www.tensorflow.org/guide/low_level_intro\n",
        "\n",
        "# Define the placeholders\n",
        "x = tf.placeholder(dtype=tf.float32, shape=(None, 1))\n",
        "y_true = tf.placeholder(dtype=tf.float32, shape=(None, 1))\n",
        "\n",
        "# Create the model\n",
        "linear_model = tf.layers.Dense(units=1, \n",
        "                               bias_initializer=tf.constant_initializer(1))\n",
        "y_pred = linear_model(x)\n",
        "\n",
        "# Define the loss function\n",
        "loss = tf.losses.mean_squared_error(labels=y_true, \n",
        "                                    predictions=y_pred)\n",
        "\n",
        "# Define the optimizer\n",
        "optimizer = tf.train.GradientDescentOptimizer(0.01)\n",
        "train = optimizer.minimize(loss)\n",
        "\n",
        "#Initialize all variables (weights and biases in the defined layer above)\n",
        "init = tf.global_variables_initializer()\n",
        "\n",
        "# Provide the training examples\n",
        "x_values = np.array([[1], [2], [3], [4]])\n",
        "y_values = np.array([[0], [-1], [-2], [-3]])\n",
        "\n",
        "with tf.Session() as sess:\n",
        "  sess.run(init)\n",
        "  # Do 1000 rounds of training\n",
        "  for i in range(1000):\n",
        "    _, loss_value = sess.run((train, loss),\n",
        "                             feed_dict={x: x_values, y_true: y_values})\n",
        "    print(loss_value, end='\\r')\n",
        "\n",
        "  weights = sess.run(linear_model.weights)\n",
        "  bias = sess.run(linear_model.bias)\n",
        "  preds = sess.run(y_pred, \n",
        "                   feed_dict={x: x_values})\n",
        "  \n",
        "  print(\"The weight is: \", weights)\n",
        "  print('\\r')\n",
        "  print(\"The bias is: \", bias)\n",
        "  print('\\r')\n",
        "  print(\"The predictions are: \\n\", preds)"
      ],
      "execution_count": 0,
      "outputs": [
        {
          "output_type": "stream",
          "text": [
            "WARNING:tensorflow:From /usr/local/lib/python3.6/dist-packages/tensorflow/python/ops/init_ops.py:1251: calling VarianceScaling.__init__ (from tensorflow.python.ops.init_ops) with dtype is deprecated and will be removed in a future version.\n",
            "Instructions for updating:\n",
            "Call initializer instance with the dtype argument instead of passing it to the constructor\n",
            "WARNING:tensorflow:From /usr/local/lib/python3.6/dist-packages/tensorflow/python/ops/losses/losses_impl.py:121: add_dispatch_support.<locals>.wrapper (from tensorflow.python.ops.array_ops) is deprecated and will be removed in a future version.\n",
            "Instructions for updating:\n",
            "Use tf.where in 2.0, which has the same broadcast rule as np.where\n",
            "The weight is:  [array([[-0.99283403]], dtype=float32), array([0.97893137], dtype=float32)]\n",
            "\n",
            "The bias is:  [0.97893137]\n",
            "\n",
            "The predictions are: \n",
            " [[-0.01390266]\n",
            " [-1.0067368 ]\n",
            " [-1.9995706 ]\n",
            " [-2.9924047 ]]\n"
          ],
          "name": "stdout"
        }
      ]
    },
    {
      "cell_type": "code",
      "metadata": {
        "id": "n3QTNCJmlgez",
        "colab_type": "code",
        "colab": {}
      },
      "source": [
        "# Get the weight\n",
        "w = weights[0].tolist()[0][0]"
      ],
      "execution_count": 0,
      "outputs": []
    },
    {
      "cell_type": "code",
      "metadata": {
        "id": "ojzAj0DvlitK",
        "colab_type": "code",
        "colab": {}
      },
      "source": [
        "# Get the bias\n",
        "b = weights[1].tolist()[0]"
      ],
      "execution_count": 0,
      "outputs": []
    },
    {
      "cell_type": "code",
      "metadata": {
        "id": "4CkO3_2flodU",
        "colab_type": "code",
        "outputId": "edd3e18f-8921-4fc8-b7e7-60e318e6f31d",
        "colab": {
          "base_uri": "https://localhost:8080/",
          "height": 84
        }
      },
      "source": [
        "# Make predictions based on the weight and bias\n",
        "x_values * w + b"
      ],
      "execution_count": 0,
      "outputs": [
        {
          "output_type": "execute_result",
          "data": {
            "text/plain": [
              "array([[-0.01390266],\n",
              "       [-1.0067367 ],\n",
              "       [-1.99957073],\n",
              "       [-2.99240476]])"
            ]
          },
          "metadata": {
            "tags": []
          },
          "execution_count": 18
        }
      ]
    }
  ]
}